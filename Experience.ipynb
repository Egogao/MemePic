{
 "cells": [
  {
   "cell_type": "code",
   "execution_count": 1,
   "metadata": {},
   "outputs": [],
   "source": [
    "from gradio_client import Client, handle_file"
   ]
  },
  {
   "cell_type": "code",
   "execution_count": 5,
   "metadata": {},
   "outputs": [
    {
     "name": "stdout",
     "output_type": "stream",
     "text": [
      "Loaded as API: https://deepseek-ai-janus-pro-7b.hf.space ✔\n",
      "This image is a humorous meme that uses a distorted, exaggerated facial expression to convey confusion or disbelief. Here's a detailed breakdown:\n",
      "\n",
      "### Analysis of the Image:\n",
      "1. **Facial Expression**:\n",
      "   - The face is heavily distorted, with exaggerated features such as a wide mouth and a furrowed brow. This distortion is often used in memes to amplify emotions or reactions.\n",
      "   - The expression suggests surprise, confusion, or disbelief, which is reinforced by the accompanying text.\n",
      "\n",
      "2. **Text**:\n",
      "   - The text \"？\" (a question mark) is prominently displayed in the center of the image. This symbolizes confusion or questioning.\n",
      "\n",
      "3. **Additional Elements**:\n",
      "   - A blue water droplet icon is placed near the top right of the image, which may symbolize sweat or a nervous reaction, further emphasizing the feeling of confusion or stress.\n",
      "\n",
      "### General Explanation of the Meme:\n",
      "This meme is likely used to express a moment of confusion or disbelief in a humorous way. The exaggerated facial expression and the question mark text work together to convey a feeling of being caught off guard or unsure about something. It's a common format in internet culture, where people use memes to express relatable emotions or reactions in a lighthearted and exaggerated manner.\n"
     ]
    }
   ],
   "source": [
    "\n",
    "client = Client(\"deepseek-ai/Janus-Pro-7B\")\n",
    "result = client.predict(\n",
    "\t\timage=handle_file('C:/Users/LU_OFFICE/Downloads/123/panda_head.png'),\n",
    "\t\t#question=\"explain this meme, show the results into two part(each part needs a title that can be easily stored in json file): a specific analysis of the image details, and give a general explanation of the meme\",\n",
    "\t\tquestion=\"explain this meme, show the results into two part, one for analysis of the image, the other one for general explanation of the meme\",\n",
    "\t\tseed=42,\n",
    "\t\ttop_p=0.95,\n",
    "\t\ttemperature=0.1,\n",
    "\t\tapi_name=\"/multimodal_understanding\"\n",
    ")\n",
    "print(result)"
   ]
  },
  {
   "cell_type": "code",
   "execution_count": 12,
   "metadata": {},
   "outputs": [
    {
     "name": "stdout",
     "output_type": "stream",
     "text": [
      "This image is a humorous meme that uses a distorted, exaggerated facial expression to convey confusion or disbelief. Here's a detailed breakdown:\n",
      "\n",
      "### Analysis of the Image:\n",
      "1. **Facial Expression**:\n",
      "   - The face is heavily distorted, with exaggerated features such as a wide mouth and a furrowed brow. This distortion is often used in memes to amplify emotions or reactions.\n",
      "   - The expression suggests surprise, confusion, or disbelief, which is reinforced by the accompanying text.\n",
      "\n",
      "2. **Text**:\n",
      "   - The text \"？\" (a question mark) is prominently displayed in the center of the image. This symbolizes confusion or questioning.\n",
      "\n",
      "3. **Additional Elements**:\n",
      "   - A blue water droplet icon is placed near the top right of the image, which may symbolize sweat or a nervous reaction, further emphasizing the feeling of confusion or stress.\n",
      "\n",
      "### General Explanation of the Meme:\n",
      "This meme is likely used to express a moment of confusion or disbelief in a humorous way. The exaggerated facial expression and the question mark text work together to convey a feeling of being caught off guard or unsure about something. It's a common format in internet culture, where people use memes to express relatable emotions or reactions in a lighthearted and exaggerated manner.\n"
     ]
    }
   ],
   "source": [
    "result_text = result\n",
    "print(result_text)"
   ]
  },
  {
   "cell_type": "code",
   "execution_count": 13,
   "metadata": {},
   "outputs": [
    {
     "name": "stdout",
     "output_type": "stream",
     "text": [
      "Output saved to C:/Users/LU_OFFICE/Downloads/123/meme_analysis.csv\n"
     ]
    }
   ],
   "source": [
    "import os\n",
    "import csv\n",
    "\n",
    "def parse_result_to_csv(text, file_path, output_csv_path):\n",
    "    filename = os.path.splitext(os.path.basename(file_path))[0]\n",
    "    \n",
    "    # Split the text into sections\n",
    "    sections = text.split(\"### \")\n",
    "    \n",
    "    # Extract the content for each column\n",
    "    begin = sections[0].replace(\",\", \"\")\n",
    "    analysis = sections[1].replace(\",\", \"\") if len(sections) > 1 else \"\"\n",
    "    explanation = sections[2].replace(\",\", \"\") if len(sections) > 2 else \"\"\n",
    "    \n",
    "    # Ensure the directory exists\n",
    "    os.makedirs(os.path.dirname(output_csv_path), exist_ok=True)\n",
    "    \n",
    "    # Write to CSV file\n",
    "    with open(output_csv_path, mode='w', newline='', encoding='utf-8') as file:\n",
    "        writer = csv.writer(file)\n",
    "        writer.writerow([\"image_file_name\", \"begin\", \"analysis\", \"explanation\"])\n",
    "        writer.writerow([filename, begin, analysis, explanation])\n",
    "    \n",
    "    print(f\"Output saved to {output_csv_path}\")\n",
    "\n",
    "\n",
    "file_path = \"C:/Users/LU_OFFICE/Downloads/123/panda_head.png\"\n",
    "output_csv_path = \"C:/Users/LU_OFFICE/Downloads/123/meme_analysis.csv\"\n",
    "\n",
    "parse_result_to_csv(result_text, file_path, output_csv_path)"
   ]
  },
  {
   "cell_type": "code",
   "execution_count": 15,
   "metadata": {},
   "outputs": [
    {
     "name": "stdout",
     "output_type": "stream",
     "text": [
      "  image_file_name                                              begin  \\\n",
      "0      panda_head  This image is a humorous meme that uses a dist...   \n",
      "\n",
      "                                            analysis  \\\n",
      "0  Analysis of the Image:\\n1. **Facial Expression...   \n",
      "\n",
      "                                         explanation  \n",
      "0  General Explanation of the Meme:\\nThis meme is...  \n"
     ]
    }
   ],
   "source": [
    "import pandas as pd\n",
    "\n",
    "# Specify the path to your CSV file\n",
    "csv_file_path = \"C:/Users/LU_OFFICE/Downloads/123/meme_analysis.csv\"\n",
    "\n",
    "# Read the CSV file into a DataFrame\n",
    "df = pd.read_csv(csv_file_path)\n",
    "\n",
    "# Display the DataFrame\n",
    "print(df)"
   ]
  },
  {
   "cell_type": "code",
   "execution_count": null,
   "metadata": {},
   "outputs": [
    {
     "name": "stdout",
     "output_type": "stream",
     "text": [
      "Requirement already satisfied: tabulate in c:\\users\\lu_office\\.conda\\envs\\full_env\\lib\\site-packages (0.9.0)\n"
     ]
    }
   ],
   "source": [
    "#!pip install tabulate\n",
    "from tabulate import tabulate"
   ]
  },
  {
   "cell_type": "code",
   "execution_count": 17,
   "metadata": {},
   "outputs": [
    {
     "name": "stdout",
     "output_type": "stream",
     "text": [
      "+-----------------+--------------------------------------------------------------------------------------------------------------------------------------------------+----------------------------------------------------------------------------------------------------------------------------------------------------------------------------------+----------------------------------------------------------------------------------------------------------------------------------------------------------------------------------------------------------------------------------------------------------------------------------------------------------------------------------------------------------------------------------------------------+\n",
      "| image_file_name |                                                                      begin                                                                       |                                                                                     analysis                                                                                     |                                                                                                                                                                                            explanation                                                                                                                                                                                             |\n",
      "+-----------------+--------------------------------------------------------------------------------------------------------------------------------------------------+----------------------------------------------------------------------------------------------------------------------------------------------------------------------------------+----------------------------------------------------------------------------------------------------------------------------------------------------------------------------------------------------------------------------------------------------------------------------------------------------------------------------------------------------------------------------------------------------+\n",
      "|   panda_head    | This image is a humorous meme that uses a distorted exaggerated facial expression to convey confusion or disbelief. Here's a detailed breakdown: |                                                                              Analysis of the Image:                                                                              |                                                                                                                                                                                  General Explanation of the Meme:                                                                                                                                                                                  |\n",
      "|                 |                                                                                                                                                  |                                                                            1. **Facial Expression**:                                                                             | This meme is likely used to express a moment of confusion or disbelief in a humorous way. The exaggerated facial expression and the question mark text work together to convey a feeling of being caught off guard or unsure about something. It's a common format in internet culture where people use memes to express relatable emotions or reactions in a lighthearted and exaggerated manner. |\n",
      "|                 |                                                                                                                                                  |    - The face is heavily distorted with exaggerated features such as a wide mouth and a furrowed brow. This distortion is often used in memes to amplify emotions or reactions.  |                                                                                                                                                                                                                                                                                                                                                                                                    |\n",
      "|                 |                                                                                                                                                  |                                       - The expression suggests surprise confusion or disbelief which is reinforced by the accompanying text.                                    |                                                                                                                                                                                                                                                                                                                                                                                                    |\n",
      "|                 |                                                                                                                                                  |                                                                                                                                                                                  |                                                                                                                                                                                                                                                                                                                                                                                                    |\n",
      "|                 |                                                                                                                                                  |                                                                                   2. **Text**:                                                                                   |                                                                                                                                                                                                                                                                                                                                                                                                    |\n",
      "|                 |                                                                                                                                                  |                          - The text \"？\" (a question mark) is prominently displayed in the center of the image. This symbolizes confusion or questioning.                        |                                                                                                                                                                                                                                                                                                                                                                                                    |\n",
      "|                 |                                                                                                                                                  |                                                                                                                                                                                  |                                                                                                                                                                                                                                                                                                                                                                                                    |\n",
      "|                 |                                                                                                                                                  |                                                                           3. **Additional Elements**:                                                                            |                                                                                                                                                                                                                                                                                                                                                                                                    |\n",
      "|                 |                                                                                                                                                  |    - A blue water droplet icon is placed near the top right of the image which may symbolize sweat or a nervous reaction further emphasizing the feeling of confusion or stress. |                                                                                                                                                                                                                                                                                                                                                                                                    |\n",
      "+-----------------+--------------------------------------------------------------------------------------------------------------------------------------------------+----------------------------------------------------------------------------------------------------------------------------------------------------------------------------------+----------------------------------------------------------------------------------------------------------------------------------------------------------------------------------------------------------------------------------------------------------------------------------------------------------------------------------------------------------------------------------------------------+\n"
     ]
    }
   ],
   "source": [
    "# Display the DataFrame in a beautiful table format\n",
    "print(tabulate(df, headers='keys', tablefmt='pretty', showindex=False))"
   ]
  }
 ],
 "metadata": {
  "kernelspec": {
   "display_name": "full_env",
   "language": "python",
   "name": "python3"
  },
  "language_info": {
   "codemirror_mode": {
    "name": "ipython",
    "version": 3
   },
   "file_extension": ".py",
   "mimetype": "text/x-python",
   "name": "python",
   "nbconvert_exporter": "python",
   "pygments_lexer": "ipython3",
   "version": "3.12.7"
  }
 },
 "nbformat": 4,
 "nbformat_minor": 2
}
