{
 "cells": [
  {
   "cell_type": "code",
   "execution_count": 3,
   "metadata": {},
   "outputs": [
    {
     "name": "stdout",
     "output_type": "stream",
     "text": [
      "Loaded as API: https://deepseek-ai-janus-pro-7b.hf.space ✔\n",
      "This image is a humorous meme that uses a distorted, exaggerated face to convey confusion or disbelief. The character appears to be a panda, with a black and white color scheme, and has a blue water droplet icon next to its head, which is often used to indicate sweating or nervousness. The text \"？\" (a question mark) is placed over the character's mouth, further emphasizing the feeling of confusion or questioning.\n",
      "\n",
      "The overall tone of the meme is lighthearted and comedic, likely intended to express disbelief or confusion at something unexpected or nonsensical. It's a common format in internet culture for expressing surprise or confusion in a humorous way.\n"
     ]
    }
   ],
   "source": [
    "from gradio_client import Client, handle_file\n",
    "\n",
    "client = Client(\"deepseek-ai/Janus-Pro-7B\")\n",
    "result = client.predict(\n",
    "\t\timage=handle_file('C:/Users/LU_OFFICE/Downloads/test/panda_head.png'),\n",
    "\t\tquestion=\"explain this meme\",\n",
    "\t\tseed=42,\n",
    "\t\ttop_p=0.95,\n",
    "\t\ttemperature=0.1,\n",
    "\t\tapi_name=\"/multimodal_understanding\"\n",
    ")\n",
    "print(result)"
   ]
  },
  {
   "cell_type": "code",
   "execution_count": 4,
   "metadata": {},
   "outputs": [
    {
     "name": "stdout",
     "output_type": "stream",
     "text": [
      "Output saved to C:/Users/LU_OFFICE/Downloads/test/panda_head.json\n"
     ]
    }
   ],
   "source": [
    "import json\n",
    "output_path = 'C:/Users/LU_OFFICE/Downloads/test/panda_head.json'\n",
    "\n",
    "with open(output_path, 'w') as f:\n",
    "    json.dump(result, f)\n",
    "\n",
    "print(f\"Output saved to {output_path}\")"
   ]
  }
 ],
 "metadata": {
  "kernelspec": {
   "display_name": "full_env",
   "language": "python",
   "name": "python3"
  },
  "language_info": {
   "codemirror_mode": {
    "name": "ipython",
    "version": 3
   },
   "file_extension": ".py",
   "mimetype": "text/x-python",
   "name": "python",
   "nbconvert_exporter": "python",
   "pygments_lexer": "ipython3",
   "version": "3.12.7"
  }
 },
 "nbformat": 4,
 "nbformat_minor": 2
}
