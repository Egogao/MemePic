{
 "cells": [
  {
   "cell_type": "code",
   "execution_count": null,
   "id": "e361812a",
   "metadata": {
    "vscode": {
     "languageId": "markdown"
    }
   },
   "outputs": [
    {
     "name": "stdout",
     "output_type": "stream",
     "text": [
      "Collecting git+https://github.com/openai/CLIP.git\n",
      "  Cloning https://github.com/openai/CLIP.git to c:\\users\\14122\\appdata\\local\\temp\\pip-req-build-no9bx28e\n",
      "  Resolved https://github.com/openai/CLIP.git to commit dcba3cb2e2827b402d2701e7e1c7d9fed8a20ef1\n",
      "  Preparing metadata (setup.py): started\n",
      "  Preparing metadata (setup.py): finished with status 'done'\n",
      "Collecting ftfy (from clip==1.0)\n",
      "  Downloading ftfy-6.3.1-py3-none-any.whl.metadata (7.3 kB)\n",
      "Requirement already satisfied: packaging in c:\\users\\14122\\anaconda3\\envs\\janus_pro\\lib\\site-packages (from clip==1.0) (24.2)\n",
      "Requirement already satisfied: regex in c:\\users\\14122\\anaconda3\\envs\\janus_pro\\lib\\site-packages (from clip==1.0) (2024.11.6)\n",
      "Requirement already satisfied: tqdm in c:\\users\\14122\\anaconda3\\envs\\janus_pro\\lib\\site-packages (from clip==1.0) (4.64.0)\n",
      "Requirement already satisfied: torch in c:\\users\\14122\\anaconda3\\envs\\janus_pro\\lib\\site-packages (from clip==1.0) (2.5.1+cu121)\n",
      "Requirement already satisfied: torchvision in c:\\users\\14122\\anaconda3\\envs\\janus_pro\\lib\\site-packages (from clip==1.0) (0.20.1+cu121)\n",
      "Requirement already satisfied: wcwidth in c:\\users\\14122\\anaconda3\\envs\\janus_pro\\lib\\site-packages (from ftfy->clip==1.0) (0.2.13)\n",
      "Requirement already satisfied: filelock in c:\\users\\14122\\anaconda3\\envs\\janus_pro\\lib\\site-packages (from torch->clip==1.0) (3.17.0)\n",
      "Requirement already satisfied: typing-extensions>=4.8.0 in c:\\users\\14122\\anaconda3\\envs\\janus_pro\\lib\\site-packages (from torch->clip==1.0) (4.12.2)\n",
      "Requirement already satisfied: networkx in c:\\users\\14122\\anaconda3\\envs\\janus_pro\\lib\\site-packages (from torch->clip==1.0) (3.4.2)\n",
      "Requirement already satisfied: jinja2 in c:\\users\\14122\\anaconda3\\envs\\janus_pro\\lib\\site-packages (from torch->clip==1.0) (3.1.5)\n",
      "Requirement already satisfied: fsspec in c:\\users\\14122\\anaconda3\\envs\\janus_pro\\lib\\site-packages (from torch->clip==1.0) (2025.2.0)\n",
      "Requirement already satisfied: sympy==1.13.1 in c:\\users\\14122\\anaconda3\\envs\\janus_pro\\lib\\site-packages (from torch->clip==1.0) (1.13.1)\n",
      "Requirement already satisfied: mpmath<1.4,>=1.1.0 in c:\\users\\14122\\anaconda3\\envs\\janus_pro\\lib\\site-packages (from sympy==1.13.1->torch->clip==1.0) (1.3.0)\n",
      "Requirement already satisfied: numpy in c:\\users\\14122\\anaconda3\\envs\\janus_pro\\lib\\site-packages (from torchvision->clip==1.0) (1.26.4)\n",
      "Requirement already satisfied: pillow!=8.3.*,>=5.3.0 in c:\\users\\14122\\anaconda3\\envs\\janus_pro\\lib\\site-packages (from torchvision->clip==1.0) (10.4.0)\n",
      "Requirement already satisfied: colorama in c:\\users\\14122\\anaconda3\\envs\\janus_pro\\lib\\site-packages (from tqdm->clip==1.0) (0.4.5)\n",
      "Requirement already satisfied: MarkupSafe>=2.0 in c:\\users\\14122\\anaconda3\\envs\\janus_pro\\lib\\site-packages (from jinja2->torch->clip==1.0) (2.1.5)\n",
      "Downloading ftfy-6.3.1-py3-none-any.whl (44 kB)\n",
      "Building wheels for collected packages: clip\n",
      "  Building wheel for clip (setup.py): started\n",
      "  Building wheel for clip (setup.py): finished with status 'done'\n",
      "  Created wheel for clip: filename=clip-1.0-py3-none-any.whl size=1369594 sha256=fc50eaa1cf700f0524a5c865eacfe20700710195f33d03f80068317007a0356b\n",
      "  Stored in directory: C:\\Users\\14122\\AppData\\Local\\Temp\\pip-ephem-wheel-cache-xpxmpw8p\\wheels\\da\\2b\\4c\\d6691fa9597aac8bb85d2ac13b112deb897d5b50f5ad9a37e4\n",
      "Successfully built clip\n",
      "Installing collected packages: ftfy, clip\n",
      "Successfully installed clip-1.0 ftfy-6.3.1\n"
     ]
    },
    {
     "name": "stderr",
     "output_type": "stream",
     "text": [
      "  Running command git clone --filter=blob:none --quiet https://github.com/openai/CLIP.git 'C:\\Users\\14122\\AppData\\Local\\Temp\\pip-req-build-no9bx28e'\n"
     ]
    }
   ],
   "source": [
    "#!pip install git+https://github.com/openai/CLIP.git"
   ]
  },
  {
   "cell_type": "markdown",
   "id": "fa9f73b6",
   "metadata": {},
   "source": [
    "## 1. Data Preparation"
   ]
  },
  {
   "cell_type": "code",
   "execution_count": 16,
   "id": "bcdd3d69",
   "metadata": {},
   "outputs": [],
   "source": [
    "image_path_MetMeme = \"C:/Users/14122/Desktop/test data/Met-Meme/CLIP_Basic/Image\"\n"
   ]
  },
  {
   "cell_type": "markdown",
   "id": "9a1b6f06",
   "metadata": {},
   "source": [
    "### Image Preprocessing"
   ]
  },
  {
   "cell_type": "code",
   "execution_count": 2,
   "id": "c1a4422c",
   "metadata": {},
   "outputs": [
    {
     "name": "stderr",
     "output_type": "stream",
     "text": [
      "100%|███████████████████████████████████████| 338M/338M [00:05<00:00, 68.8MiB/s]\n"
     ]
    }
   ],
   "source": [
    "\n",
    "from PIL import Image\n",
    "import clip\n",
    "model, preprocess = clip.load(\"ViT-B/32\", device=\"cuda\")\n",
    "\n",
    "def load_image(image_path):\n",
    "    image = Image.open(image_path).convert(\"RGB\")\n",
    "    return preprocess(image)  # 返回形状 [3, 224, 224]"
   ]
  },
  {
   "cell_type": "code",
   "execution_count": 33,
   "id": "c5e166b8",
   "metadata": {},
   "outputs": [
    {
     "data": {
      "text/plain": [
       "tensor([[[0.9522, 0.9522, 0.9522,  ..., 0.9522, 0.9522, 0.9522],\n",
       "         [0.9522, 0.9522, 0.9522,  ..., 0.9522, 0.9522, 0.9522],\n",
       "         [0.9522, 0.9522, 0.9522,  ..., 0.9522, 0.9522, 0.9522],\n",
       "         ...,\n",
       "         [0.9522, 0.9522, 0.9522,  ..., 0.9522, 0.9522, 0.9522],\n",
       "         [0.9522, 0.9522, 0.9522,  ..., 0.9522, 0.9522, 0.9522],\n",
       "         [0.9522, 0.9522, 0.9522,  ..., 0.9522, 0.9522, 0.9522]],\n",
       "\n",
       "        [[1.3995, 1.3995, 1.3995,  ..., 1.3995, 1.3995, 1.3995],\n",
       "         [1.3995, 1.3995, 1.3995,  ..., 1.3995, 1.3995, 1.3995],\n",
       "         [1.3995, 1.3995, 1.3995,  ..., 1.3995, 1.3995, 1.3995],\n",
       "         ...,\n",
       "         [1.3995, 1.3995, 1.3995,  ..., 1.3995, 1.3995, 1.3995],\n",
       "         [1.3995, 1.3995, 1.3995,  ..., 1.3995, 1.3995, 1.3995],\n",
       "         [1.3995, 1.3995, 1.3995,  ..., 1.3995, 1.3995, 1.3995]],\n",
       "\n",
       "        [[0.8377, 0.8377, 0.8377,  ..., 0.8377, 0.8377, 0.8377],\n",
       "         [0.8377, 0.8377, 0.8377,  ..., 0.8377, 0.8377, 0.8377],\n",
       "         [0.8377, 0.8377, 0.8377,  ..., 0.8377, 0.8377, 0.8377],\n",
       "         ...,\n",
       "         [0.8377, 0.8377, 0.8377,  ..., 0.8377, 0.8377, 0.8377],\n",
       "         [0.8377, 0.8377, 0.8377,  ..., 0.8377, 0.8377, 0.8377],\n",
       "         [0.8377, 0.8377, 0.8377,  ..., 0.8377, 0.8377, 0.8377]]])"
      ]
     },
     "execution_count": 33,
     "metadata": {},
     "output_type": "execute_result"
    }
   ],
   "source": [
    "image = load_image(\"C:/Users/14122/Desktop/test data/Met-Meme/CLIP_Basic/Image/image_ (1).jpg\")\n",
    "image"
   ]
  },
  {
   "cell_type": "code",
   "execution_count": null,
   "id": "d73669eb",
   "metadata": {},
   "outputs": [],
   "source": []
  },
  {
   "cell_type": "markdown",
   "id": "5009f5f9",
   "metadata": {},
   "source": [
    "### Text Preprocessing"
   ]
  },
  {
   "cell_type": "code",
   "execution_count": 34,
   "id": "8c155b47",
   "metadata": {},
   "outputs": [],
   "source": [
    "# 修改process_text以适配数据集：\n",
    "def process_text(text):\n",
    "    return clip.tokenize([text])  # 不再添加前缀，更灵活\n"
   ]
  },
  {
   "cell_type": "code",
   "execution_count": 35,
   "id": "7440942a",
   "metadata": {},
   "outputs": [
    {
     "ename": "NameError",
     "evalue": "name 'row' is not defined",
     "output_type": "error",
     "traceback": [
      "\u001b[1;31m---------------------------------------------------------------------------\u001b[0m",
      "\u001b[1;31mNameError\u001b[0m                                 Traceback (most recent call last)",
      "Cell \u001b[1;32mIn[35], line 2\u001b[0m\n\u001b[0;32m      1\u001b[0m \u001b[38;5;66;03m# 在数据集中：\u001b[39;00m\n\u001b[1;32m----> 2\u001b[0m text \u001b[38;5;241m=\u001b[39m process_text(\u001b[43mrow\u001b[49m[\u001b[38;5;124m\"\u001b[39m\u001b[38;5;124mOverall Tone\u001b[39m\u001b[38;5;124m\"\u001b[39m])\n",
      "\u001b[1;31mNameError\u001b[0m: name 'row' is not defined"
     ]
    }
   ],
   "source": [
    "# 在数据集中：\n",
    "text = process_text(row[\"Overall Tone\"])"
   ]
  },
  {
   "cell_type": "markdown",
   "id": "c01e94bb",
   "metadata": {},
   "source": [
    "### Label Encode"
   ]
  },
  {
   "cell_type": "code",
   "execution_count": 5,
   "id": "33101a4d",
   "metadata": {},
   "outputs": [
    {
     "name": "stdout",
     "output_type": "stream",
     "text": [
      "Collecting scikit-learn\n",
      "  Downloading scikit_learn-1.6.1-cp310-cp310-win_amd64.whl.metadata (15 kB)\n",
      "Requirement already satisfied: numpy>=1.19.5 in c:\\users\\14122\\anaconda3\\envs\\janus_pro\\lib\\site-packages (from scikit-learn) (1.26.4)\n",
      "Requirement already satisfied: scipy>=1.6.0 in c:\\users\\14122\\anaconda3\\envs\\janus_pro\\lib\\site-packages (from scikit-learn) (1.15.2)\n",
      "Collecting joblib>=1.2.0 (from scikit-learn)\n",
      "  Downloading joblib-1.4.2-py3-none-any.whl.metadata (5.4 kB)\n",
      "Collecting threadpoolctl>=3.1.0 (from scikit-learn)\n",
      "  Downloading threadpoolctl-3.6.0-py3-none-any.whl.metadata (13 kB)\n",
      "Downloading scikit_learn-1.6.1-cp310-cp310-win_amd64.whl (11.1 MB)\n",
      "   ---------------------------------------- 0.0/11.1 MB ? eta -:--:--\n",
      "   ---------------------------------------- 11.1/11.1 MB 86.9 MB/s eta 0:00:00\n",
      "Downloading joblib-1.4.2-py3-none-any.whl (301 kB)\n",
      "Downloading threadpoolctl-3.6.0-py3-none-any.whl (18 kB)\n",
      "Installing collected packages: threadpoolctl, joblib, scikit-learn\n",
      "Successfully installed joblib-1.4.2 scikit-learn-1.6.1 threadpoolctl-3.6.0\n"
     ]
    }
   ],
   "source": [
    "#!pip install scikit-learn"
   ]
  },
  {
   "cell_type": "code",
   "execution_count": 12,
   "id": "f3c0e1b1",
   "metadata": {},
   "outputs": [],
   "source": [
    "import sklearn\n",
    "import pandas as pd\n",
    "from sklearn.preprocessing import LabelEncoder\n",
    "\n",
    "# Load the CSV file\n",
    "df = pd.read_csv(\"C:/Users/14122/Desktop/test data/Met-Meme/CLIP_Basic/modified_data.csv\")\n",
    "\n",
    "# Select the \"intention_detection\" column\n",
    "intention_column = df[\"intention detection\"]\n",
    "\n",
    "# Encode the labels\n",
    "#labels = encoder.fit_transform(intention_column)  # Encodes values like 1, 2, 3, 4, 5 into 0, 1, 2, 3, 4\n",
    "\n",
    "encoder = LabelEncoder()\n",
    "labels = encoder.fit_transform(intention_column)  # 输出 [0, 1, 2, 3, 4]"
   ]
  },
  {
   "cell_type": "code",
   "execution_count": 13,
   "id": "98f1bed0",
   "metadata": {},
   "outputs": [
    {
     "name": "stdout",
     "output_type": "stream",
     "text": [
      "Label Mapping: {'1(interactive)': 0, '2(expressive)': 1, '3(entertaining)': 2, '4(offensive)': 3, '5(other)': 4}\n",
      "Encoded Labels (first 10): [3 1 1 3 2 2 2 2 2 2]\n"
     ]
    }
   ],
   "source": [
    "# Check the mapping of original labels to encoded labels\n",
    "label_mapping = dict(zip(encoder.classes_, range(len(encoder.classes_))))\n",
    "print(\"Label Mapping:\", label_mapping)\n",
    "\n",
    "# Verify the first few encoded labels\n",
    "print(\"Encoded Labels (first 10):\", labels[:10])"
   ]
  },
  {
   "cell_type": "code",
   "execution_count": 21,
   "id": "3b65fa88",
   "metadata": {},
   "outputs": [
    {
     "name": "stdout",
     "output_type": "stream",
     "text": [
      "Label Mapping: {'1(interactive)': 0, '2(expressive)': 1, '3(entertaining)': 2, '4(offensive)': 3, '5(other)': 4}\n",
      "          image_file                                       Overall Tone  \\\n",
      "0     image_ (0).jpg   The tone is lighthearted and self-deprecating...   \n",
      "1     image_ (1).jpg   Playful and lighthearted. The image uses humo...   \n",
      "2    image_ (10).jpg  \\n- The image conveys a sense of irony and hum...   \n",
      "3   image_ (100).jpg  \\n- The meme uses humor and exaggeration to po...   \n",
      "4  image_ (1000).jpg   The tone of the image is contemplative and ph...   \n",
      "\n",
      "  intention detection  label_index  \n",
      "0        4(offensive)            3  \n",
      "1       2(expressive)            1  \n",
      "2       2(expressive)            1  \n",
      "3        4(offensive)            3  \n",
      "4     3(entertaining)            2  \n"
     ]
    }
   ],
   "source": [
    "df[\"label_index\"] = labels  # Add the labels to DataFrame 中\n",
    "# Check the mapping of original labels to encoded labels\n",
    "label_mapping = dict(zip(encoder.classes_, range(len(encoder.classes_))))\n",
    "print(\"Label Mapping:\", label_mapping)\n",
    "\n",
    "# Verify the first few rows of the DataFrame\n",
    "print(df.head())"
   ]
  },
  {
   "cell_type": "markdown",
   "id": "b01eb138",
   "metadata": {},
   "source": [
    "## 2. Model Structure"
   ]
  },
  {
   "cell_type": "markdown",
   "id": "640811fb",
   "metadata": {},
   "source": [
    "### Multimodal Fusion Design"
   ]
  },
  {
   "cell_type": "code",
   "execution_count": 14,
   "id": "12375336",
   "metadata": {},
   "outputs": [],
   "source": [
    "import torch\n",
    "import clip\n",
    "from torch import nn\n",
    "\n",
    "class MultimodalClassifier(nn.Module):\n",
    "    def __init__(self, clip_model, num_classes=5):\n",
    "        super().__init__()\n",
    "        self.clip = clip_model\n",
    "        # 冻结CLIP参数（可选）\n",
    "        for param in self.clip.parameters():\n",
    "            param.requires_grad = False\n",
    "        # 分类头\n",
    "        self.classifier = nn.Sequential(\n",
    "            nn.Linear(512 * 2, 256),  # 图像+文本特征拼接\n",
    "            nn.ReLU(),\n",
    "            nn.Linear(256, num_classes)\n",
    "        )\n",
    "\n",
    "    def forward(self, images, texts):\n",
    "        # 提取多模态特征\n",
    "        image_features = self.clip.encode_image(images)  # [batch, 512]\n",
    "        text_features = self.clip.encode_text(texts)     # [batch, 512]\n",
    "        # 拼接特征\n",
    "        combined = torch.cat([image_features, text_features], dim=1)  # [batch, 1024]\n",
    "        # 分类\n",
    "        logits = self.classifier(combined)\n",
    "        return logits"
   ]
  },
  {
   "cell_type": "markdown",
   "id": "949fa092",
   "metadata": {},
   "source": [
    "## 3. Dataset and Data Loader"
   ]
  },
  {
   "cell_type": "markdown",
   "id": "9ebca614",
   "metadata": {},
   "source": [
    "### Custermized Dataset Class"
   ]
  },
  {
   "cell_type": "code",
   "execution_count": 15,
   "id": "f07e0598",
   "metadata": {},
   "outputs": [],
   "source": [
    "import os\n",
    "from torch.utils.data import Dataset, DataLoader\n",
    "\n",
    "class MemeDataset(Dataset):\n",
    "    def __init__(self, df, image_dir, preprocess):\n",
    "        self.df = df\n",
    "        self.image_dir = image_dir\n",
    "        self.preprocess = preprocess\n",
    "\n",
    "    def __len__(self):\n",
    "        return len(self.df)\n",
    "\n",
    "    def __getitem__(self, idx):\n",
    "        row = self.df.iloc[idx]\n",
    "        # 加载图像\n",
    "        image_path = os.path.join(self.image_dir, row[\"image_file\"])\n",
    "        image = self.preprocess(Image.open(image_path))\n",
    "        # 处理文本\n",
    "        text = clip.tokenize([f\"This image has a {row['Overall Tone']}\"])\n",
    "        # 标签\n",
    "        label = torch.tensor(row[\"label_index\"], dtype=torch.long)\n",
    "        return image, text.squeeze(0), label"
   ]
  },
  {
   "cell_type": "code",
   "execution_count": 31,
   "id": "d835e7f4",
   "metadata": {},
   "outputs": [],
   "source": [
    "# 修改后的MemeDataset类\n",
    "class MemeDataset(Dataset):\n",
    "    def __getitem__(self, idx):\n",
    "        row = self.df.iloc[idx]\n",
    "        # 调用预定义的load_image\n",
    "        image = load_image(os.path.join(self.image_dir, row[\"image_file\"]))\n",
    "        # 调用预定义的process_text\n",
    "        text = process_text(row[\"Overall Tone\"])\n",
    "        label = torch.tensor(row[\"label_index\"], dtype=torch.long)\n",
    "        return image, text.squeeze(0), label  # 保持维度一致"
   ]
  },
  {
   "cell_type": "markdown",
   "id": "6717785f",
   "metadata": {},
   "source": [
    "### Load the data"
   ]
  },
  {
   "cell_type": "code",
   "execution_count": 17,
   "id": "4b5009a5",
   "metadata": {},
   "outputs": [],
   "source": [
    "dataset = MemeDataset(df, image_path_MetMeme, preprocess)\n",
    "dataloader = DataLoader(dataset, batch_size=32, shuffle=True)"
   ]
  },
  {
   "cell_type": "markdown",
   "id": "846738c4",
   "metadata": {},
   "source": [
    "## 4. Training and Evaluation"
   ]
  },
  {
   "cell_type": "markdown",
   "id": "12e2bf97",
   "metadata": {},
   "source": [
    "### Training configuration"
   ]
  },
  {
   "cell_type": "code",
   "execution_count": 18,
   "id": "dccd3871",
   "metadata": {},
   "outputs": [],
   "source": [
    "device = \"cuda\" if torch.cuda.is_available() else \"cpu\"\n",
    "model = MultimodalClassifier(model).to(device)\n",
    "criterion = nn.CrossEntropyLoss()\n",
    "optimizer = torch.optim.Adam(model.parameters(), lr=1e-4)"
   ]
  },
  {
   "cell_type": "markdown",
   "id": "95eb2304",
   "metadata": {},
   "source": [
    "### Training Loop"
   ]
  },
  {
   "cell_type": "code",
   "execution_count": 30,
   "id": "63fca2e9",
   "metadata": {},
   "outputs": [
    {
     "ename": "RuntimeError",
     "evalue": "mat1 and mat2 must have the same dtype, but got Half and Float",
     "output_type": "error",
     "traceback": [
      "\u001b[1;31m---------------------------------------------------------------------------\u001b[0m",
      "\u001b[1;31mRuntimeError\u001b[0m                              Traceback (most recent call last)",
      "Cell \u001b[1;32mIn[30], line 6\u001b[0m\n\u001b[0;32m      3\u001b[0m images, texts, labels \u001b[38;5;241m=\u001b[39m images\u001b[38;5;241m.\u001b[39mto(device), texts\u001b[38;5;241m.\u001b[39mto(device), labels\u001b[38;5;241m.\u001b[39mto(device)\n\u001b[0;32m      5\u001b[0m optimizer\u001b[38;5;241m.\u001b[39mzero_grad()\n\u001b[1;32m----> 6\u001b[0m outputs \u001b[38;5;241m=\u001b[39m \u001b[43mmodel\u001b[49m\u001b[43m(\u001b[49m\u001b[43mimages\u001b[49m\u001b[43m,\u001b[49m\u001b[43m \u001b[49m\u001b[43mtexts\u001b[49m\u001b[43m)\u001b[49m\n\u001b[0;32m      7\u001b[0m loss \u001b[38;5;241m=\u001b[39m criterion(outputs, labels)\n\u001b[0;32m      8\u001b[0m loss\u001b[38;5;241m.\u001b[39mbackward()\n",
      "File \u001b[1;32mc:\\Users\\14122\\anaconda3\\envs\\janus_pro\\lib\\site-packages\\torch\\nn\\modules\\module.py:1736\u001b[0m, in \u001b[0;36mModule._wrapped_call_impl\u001b[1;34m(self, *args, **kwargs)\u001b[0m\n\u001b[0;32m   1734\u001b[0m     \u001b[38;5;28;01mreturn\u001b[39;00m \u001b[38;5;28mself\u001b[39m\u001b[38;5;241m.\u001b[39m_compiled_call_impl(\u001b[38;5;241m*\u001b[39margs, \u001b[38;5;241m*\u001b[39m\u001b[38;5;241m*\u001b[39mkwargs)  \u001b[38;5;66;03m# type: ignore[misc]\u001b[39;00m\n\u001b[0;32m   1735\u001b[0m \u001b[38;5;28;01melse\u001b[39;00m:\n\u001b[1;32m-> 1736\u001b[0m     \u001b[38;5;28;01mreturn\u001b[39;00m \u001b[38;5;28mself\u001b[39m\u001b[38;5;241m.\u001b[39m_call_impl(\u001b[38;5;241m*\u001b[39margs, \u001b[38;5;241m*\u001b[39m\u001b[38;5;241m*\u001b[39mkwargs)\n",
      "File \u001b[1;32mc:\\Users\\14122\\anaconda3\\envs\\janus_pro\\lib\\site-packages\\torch\\nn\\modules\\module.py:1747\u001b[0m, in \u001b[0;36mModule._call_impl\u001b[1;34m(self, *args, **kwargs)\u001b[0m\n\u001b[0;32m   1742\u001b[0m \u001b[38;5;66;03m# If we don't have any hooks, we want to skip the rest of the logic in\u001b[39;00m\n\u001b[0;32m   1743\u001b[0m \u001b[38;5;66;03m# this function, and just call forward.\u001b[39;00m\n\u001b[0;32m   1744\u001b[0m \u001b[38;5;28;01mif\u001b[39;00m \u001b[38;5;129;01mnot\u001b[39;00m (\u001b[38;5;28mself\u001b[39m\u001b[38;5;241m.\u001b[39m_backward_hooks \u001b[38;5;129;01mor\u001b[39;00m \u001b[38;5;28mself\u001b[39m\u001b[38;5;241m.\u001b[39m_backward_pre_hooks \u001b[38;5;129;01mor\u001b[39;00m \u001b[38;5;28mself\u001b[39m\u001b[38;5;241m.\u001b[39m_forward_hooks \u001b[38;5;129;01mor\u001b[39;00m \u001b[38;5;28mself\u001b[39m\u001b[38;5;241m.\u001b[39m_forward_pre_hooks\n\u001b[0;32m   1745\u001b[0m         \u001b[38;5;129;01mor\u001b[39;00m _global_backward_pre_hooks \u001b[38;5;129;01mor\u001b[39;00m _global_backward_hooks\n\u001b[0;32m   1746\u001b[0m         \u001b[38;5;129;01mor\u001b[39;00m _global_forward_hooks \u001b[38;5;129;01mor\u001b[39;00m _global_forward_pre_hooks):\n\u001b[1;32m-> 1747\u001b[0m     \u001b[38;5;28;01mreturn\u001b[39;00m forward_call(\u001b[38;5;241m*\u001b[39margs, \u001b[38;5;241m*\u001b[39m\u001b[38;5;241m*\u001b[39mkwargs)\n\u001b[0;32m   1749\u001b[0m result \u001b[38;5;241m=\u001b[39m \u001b[38;5;28;01mNone\u001b[39;00m\n\u001b[0;32m   1750\u001b[0m called_always_called_hooks \u001b[38;5;241m=\u001b[39m \u001b[38;5;28mset\u001b[39m()\n",
      "Cell \u001b[1;32mIn[14], line 26\u001b[0m, in \u001b[0;36mMultimodalClassifier.forward\u001b[1;34m(self, images, texts)\u001b[0m\n\u001b[0;32m     24\u001b[0m combined \u001b[38;5;241m=\u001b[39m torch\u001b[38;5;241m.\u001b[39mcat([image_features, text_features], dim\u001b[38;5;241m=\u001b[39m\u001b[38;5;241m1\u001b[39m)  \u001b[38;5;66;03m# [batch, 1024]\u001b[39;00m\n\u001b[0;32m     25\u001b[0m \u001b[38;5;66;03m# 分类\u001b[39;00m\n\u001b[1;32m---> 26\u001b[0m logits \u001b[38;5;241m=\u001b[39m \u001b[38;5;28;43mself\u001b[39;49m\u001b[38;5;241;43m.\u001b[39;49m\u001b[43mclassifier\u001b[49m\u001b[43m(\u001b[49m\u001b[43mcombined\u001b[49m\u001b[43m)\u001b[49m\n\u001b[0;32m     27\u001b[0m \u001b[38;5;28;01mreturn\u001b[39;00m logits\n",
      "File \u001b[1;32mc:\\Users\\14122\\anaconda3\\envs\\janus_pro\\lib\\site-packages\\torch\\nn\\modules\\module.py:1736\u001b[0m, in \u001b[0;36mModule._wrapped_call_impl\u001b[1;34m(self, *args, **kwargs)\u001b[0m\n\u001b[0;32m   1734\u001b[0m     \u001b[38;5;28;01mreturn\u001b[39;00m \u001b[38;5;28mself\u001b[39m\u001b[38;5;241m.\u001b[39m_compiled_call_impl(\u001b[38;5;241m*\u001b[39margs, \u001b[38;5;241m*\u001b[39m\u001b[38;5;241m*\u001b[39mkwargs)  \u001b[38;5;66;03m# type: ignore[misc]\u001b[39;00m\n\u001b[0;32m   1735\u001b[0m \u001b[38;5;28;01melse\u001b[39;00m:\n\u001b[1;32m-> 1736\u001b[0m     \u001b[38;5;28;01mreturn\u001b[39;00m \u001b[38;5;28mself\u001b[39m\u001b[38;5;241m.\u001b[39m_call_impl(\u001b[38;5;241m*\u001b[39margs, \u001b[38;5;241m*\u001b[39m\u001b[38;5;241m*\u001b[39mkwargs)\n",
      "File \u001b[1;32mc:\\Users\\14122\\anaconda3\\envs\\janus_pro\\lib\\site-packages\\torch\\nn\\modules\\module.py:1747\u001b[0m, in \u001b[0;36mModule._call_impl\u001b[1;34m(self, *args, **kwargs)\u001b[0m\n\u001b[0;32m   1742\u001b[0m \u001b[38;5;66;03m# If we don't have any hooks, we want to skip the rest of the logic in\u001b[39;00m\n\u001b[0;32m   1743\u001b[0m \u001b[38;5;66;03m# this function, and just call forward.\u001b[39;00m\n\u001b[0;32m   1744\u001b[0m \u001b[38;5;28;01mif\u001b[39;00m \u001b[38;5;129;01mnot\u001b[39;00m (\u001b[38;5;28mself\u001b[39m\u001b[38;5;241m.\u001b[39m_backward_hooks \u001b[38;5;129;01mor\u001b[39;00m \u001b[38;5;28mself\u001b[39m\u001b[38;5;241m.\u001b[39m_backward_pre_hooks \u001b[38;5;129;01mor\u001b[39;00m \u001b[38;5;28mself\u001b[39m\u001b[38;5;241m.\u001b[39m_forward_hooks \u001b[38;5;129;01mor\u001b[39;00m \u001b[38;5;28mself\u001b[39m\u001b[38;5;241m.\u001b[39m_forward_pre_hooks\n\u001b[0;32m   1745\u001b[0m         \u001b[38;5;129;01mor\u001b[39;00m _global_backward_pre_hooks \u001b[38;5;129;01mor\u001b[39;00m _global_backward_hooks\n\u001b[0;32m   1746\u001b[0m         \u001b[38;5;129;01mor\u001b[39;00m _global_forward_hooks \u001b[38;5;129;01mor\u001b[39;00m _global_forward_pre_hooks):\n\u001b[1;32m-> 1747\u001b[0m     \u001b[38;5;28;01mreturn\u001b[39;00m forward_call(\u001b[38;5;241m*\u001b[39margs, \u001b[38;5;241m*\u001b[39m\u001b[38;5;241m*\u001b[39mkwargs)\n\u001b[0;32m   1749\u001b[0m result \u001b[38;5;241m=\u001b[39m \u001b[38;5;28;01mNone\u001b[39;00m\n\u001b[0;32m   1750\u001b[0m called_always_called_hooks \u001b[38;5;241m=\u001b[39m \u001b[38;5;28mset\u001b[39m()\n",
      "File \u001b[1;32mc:\\Users\\14122\\anaconda3\\envs\\janus_pro\\lib\\site-packages\\torch\\nn\\modules\\container.py:250\u001b[0m, in \u001b[0;36mSequential.forward\u001b[1;34m(self, input)\u001b[0m\n\u001b[0;32m    248\u001b[0m \u001b[38;5;28;01mdef\u001b[39;00m\u001b[38;5;250m \u001b[39m\u001b[38;5;21mforward\u001b[39m(\u001b[38;5;28mself\u001b[39m, \u001b[38;5;28minput\u001b[39m):\n\u001b[0;32m    249\u001b[0m     \u001b[38;5;28;01mfor\u001b[39;00m module \u001b[38;5;129;01min\u001b[39;00m \u001b[38;5;28mself\u001b[39m:\n\u001b[1;32m--> 250\u001b[0m         \u001b[38;5;28minput\u001b[39m \u001b[38;5;241m=\u001b[39m \u001b[43mmodule\u001b[49m\u001b[43m(\u001b[49m\u001b[38;5;28;43minput\u001b[39;49m\u001b[43m)\u001b[49m\n\u001b[0;32m    251\u001b[0m     \u001b[38;5;28;01mreturn\u001b[39;00m \u001b[38;5;28minput\u001b[39m\n",
      "File \u001b[1;32mc:\\Users\\14122\\anaconda3\\envs\\janus_pro\\lib\\site-packages\\torch\\nn\\modules\\module.py:1736\u001b[0m, in \u001b[0;36mModule._wrapped_call_impl\u001b[1;34m(self, *args, **kwargs)\u001b[0m\n\u001b[0;32m   1734\u001b[0m     \u001b[38;5;28;01mreturn\u001b[39;00m \u001b[38;5;28mself\u001b[39m\u001b[38;5;241m.\u001b[39m_compiled_call_impl(\u001b[38;5;241m*\u001b[39margs, \u001b[38;5;241m*\u001b[39m\u001b[38;5;241m*\u001b[39mkwargs)  \u001b[38;5;66;03m# type: ignore[misc]\u001b[39;00m\n\u001b[0;32m   1735\u001b[0m \u001b[38;5;28;01melse\u001b[39;00m:\n\u001b[1;32m-> 1736\u001b[0m     \u001b[38;5;28;01mreturn\u001b[39;00m \u001b[38;5;28mself\u001b[39m\u001b[38;5;241m.\u001b[39m_call_impl(\u001b[38;5;241m*\u001b[39margs, \u001b[38;5;241m*\u001b[39m\u001b[38;5;241m*\u001b[39mkwargs)\n",
      "File \u001b[1;32mc:\\Users\\14122\\anaconda3\\envs\\janus_pro\\lib\\site-packages\\torch\\nn\\modules\\module.py:1747\u001b[0m, in \u001b[0;36mModule._call_impl\u001b[1;34m(self, *args, **kwargs)\u001b[0m\n\u001b[0;32m   1742\u001b[0m \u001b[38;5;66;03m# If we don't have any hooks, we want to skip the rest of the logic in\u001b[39;00m\n\u001b[0;32m   1743\u001b[0m \u001b[38;5;66;03m# this function, and just call forward.\u001b[39;00m\n\u001b[0;32m   1744\u001b[0m \u001b[38;5;28;01mif\u001b[39;00m \u001b[38;5;129;01mnot\u001b[39;00m (\u001b[38;5;28mself\u001b[39m\u001b[38;5;241m.\u001b[39m_backward_hooks \u001b[38;5;129;01mor\u001b[39;00m \u001b[38;5;28mself\u001b[39m\u001b[38;5;241m.\u001b[39m_backward_pre_hooks \u001b[38;5;129;01mor\u001b[39;00m \u001b[38;5;28mself\u001b[39m\u001b[38;5;241m.\u001b[39m_forward_hooks \u001b[38;5;129;01mor\u001b[39;00m \u001b[38;5;28mself\u001b[39m\u001b[38;5;241m.\u001b[39m_forward_pre_hooks\n\u001b[0;32m   1745\u001b[0m         \u001b[38;5;129;01mor\u001b[39;00m _global_backward_pre_hooks \u001b[38;5;129;01mor\u001b[39;00m _global_backward_hooks\n\u001b[0;32m   1746\u001b[0m         \u001b[38;5;129;01mor\u001b[39;00m _global_forward_hooks \u001b[38;5;129;01mor\u001b[39;00m _global_forward_pre_hooks):\n\u001b[1;32m-> 1747\u001b[0m     \u001b[38;5;28;01mreturn\u001b[39;00m forward_call(\u001b[38;5;241m*\u001b[39margs, \u001b[38;5;241m*\u001b[39m\u001b[38;5;241m*\u001b[39mkwargs)\n\u001b[0;32m   1749\u001b[0m result \u001b[38;5;241m=\u001b[39m \u001b[38;5;28;01mNone\u001b[39;00m\n\u001b[0;32m   1750\u001b[0m called_always_called_hooks \u001b[38;5;241m=\u001b[39m \u001b[38;5;28mset\u001b[39m()\n",
      "File \u001b[1;32mc:\\Users\\14122\\anaconda3\\envs\\janus_pro\\lib\\site-packages\\torch\\nn\\modules\\linear.py:125\u001b[0m, in \u001b[0;36mLinear.forward\u001b[1;34m(self, input)\u001b[0m\n\u001b[0;32m    124\u001b[0m \u001b[38;5;28;01mdef\u001b[39;00m\u001b[38;5;250m \u001b[39m\u001b[38;5;21mforward\u001b[39m(\u001b[38;5;28mself\u001b[39m, \u001b[38;5;28minput\u001b[39m: Tensor) \u001b[38;5;241m-\u001b[39m\u001b[38;5;241m>\u001b[39m Tensor:\n\u001b[1;32m--> 125\u001b[0m     \u001b[38;5;28;01mreturn\u001b[39;00m \u001b[43mF\u001b[49m\u001b[38;5;241;43m.\u001b[39;49m\u001b[43mlinear\u001b[49m\u001b[43m(\u001b[49m\u001b[38;5;28;43minput\u001b[39;49m\u001b[43m,\u001b[49m\u001b[43m \u001b[49m\u001b[38;5;28;43mself\u001b[39;49m\u001b[38;5;241;43m.\u001b[39;49m\u001b[43mweight\u001b[49m\u001b[43m,\u001b[49m\u001b[43m \u001b[49m\u001b[38;5;28;43mself\u001b[39;49m\u001b[38;5;241;43m.\u001b[39;49m\u001b[43mbias\u001b[49m\u001b[43m)\u001b[49m\n",
      "\u001b[1;31mRuntimeError\u001b[0m: mat1 and mat2 must have the same dtype, but got Half and Float"
     ]
    }
   ],
   "source": [
    "for epoch in range(10):\n",
    "    for images, texts, labels in dataloader:\n",
    "        images, texts, labels = images.to(device), texts.to(device), labels.to(device)\n",
    "        \n",
    "        optimizer.zero_grad()\n",
    "        outputs = model(images, texts)\n",
    "        loss = criterion(outputs, labels)\n",
    "        loss.backward()\n",
    "        optimizer.step()\n",
    "    print(f\"Epoch {epoch+1}, Loss: {loss.item():.4f}\")"
   ]
  },
  {
   "cell_type": "markdown",
   "id": "1958e636",
   "metadata": {},
   "source": [
    "### Evaluation Index"
   ]
  },
  {
   "cell_type": "code",
   "execution_count": null,
   "id": "60619ebb",
   "metadata": {},
   "outputs": [],
   "source": [
    "from sklearn.metrics import classification_report\n",
    "\n",
    "model.eval()\n",
    "all_preds = []\n",
    "all_labels = []\n",
    "with torch.no_grad():\n",
    "    for images, texts, labels in test_dataloader:\n",
    "        images, texts, labels = images.to(device), texts.to(device), labels.to(device)\n",
    "        outputs = model(images, texts)\n",
    "        preds = torch.argmax(outputs, dim=1)\n",
    "        all_preds.extend(preds.cpu().numpy())\n",
    "        all_labels.extend(labels.cpu().numpy())\n",
    "\n",
    "print(classification_report(all_labels, all_preds, target_names=encoder.classes_))"
   ]
  },
  {
   "cell_type": "markdown",
   "id": "b4b9ea2a",
   "metadata": {},
   "source": [
    "## Prediction"
   ]
  },
  {
   "cell_type": "code",
   "execution_count": null,
   "id": "74c5aee6",
   "metadata": {},
   "outputs": [],
   "source": [
    "def predict(image_path, text, model, preprocess, encoder):\n",
    "    image = preprocess(Image.open(image_path)).unsqueeze(0).to(device)\n",
    "    tokenized_text = clip.tokenize([f\"This image has a {text}\"]).to(device)\n",
    "    with torch.no_grad():\n",
    "        logits = model(image, tokenized_text)\n",
    "    prob = torch.softmax(logits, dim=1)\n",
    "    return {\n",
    "        \"class\": encoder.inverse_transform([logits.argmax().item()])[0],\n",
    "        \"confidence\": round(prob.max().item(), 4)\n",
    "    }\n",
    "\n",
    "# 示例\n",
    "result = predict(\"image_001.jpg\", \"humorous tone\", model, preprocess, encoder)\n",
    "print(result)  # 输出: {\"class\": \"entertaining\", \"confidence\": 0.9231}"
   ]
  }
 ],
 "metadata": {
  "kernelspec": {
   "display_name": "janus_pro",
   "language": "python",
   "name": "python3"
  },
  "language_info": {
   "codemirror_mode": {
    "name": "ipython",
    "version": 3
   },
   "file_extension": ".py",
   "mimetype": "text/x-python",
   "name": "python",
   "nbconvert_exporter": "python",
   "pygments_lexer": "ipython3",
   "version": "3.10.16"
  }
 },
 "nbformat": 4,
 "nbformat_minor": 5
}
